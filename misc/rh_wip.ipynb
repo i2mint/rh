{
 "cells": [
  {
   "cell_type": "code",
   "execution_count": null,
   "id": "f0f51cec",
   "metadata": {},
   "outputs": [],
   "source": []
  },
  {
   "cell_type": "code",
   "execution_count": 1,
   "id": "f99339b5",
   "metadata": {},
   "outputs": [
    {
     "ename": "FileNotFoundError",
     "evalue": "[Errno 2] No such file or directory: '/Users/thorwhalen/.config/rh/apps/default_app'",
     "output_type": "error",
     "traceback": [
      "\u001b[0;31m---------------------------------------------------------------------------\u001b[0m",
      "\u001b[0;31mFileNotFoundError\u001b[0m                         Traceback (most recent call last)",
      "Cell \u001b[0;32mIn[1], line 25\u001b[0m\n\u001b[1;32m     22\u001b[0m app_path \u001b[38;5;241m=\u001b[39m builder\u001b[38;5;241m.\u001b[39mbuild_app(title\u001b[38;5;241m=\u001b[39m\u001b[38;5;124m\"\u001b[39m\u001b[38;5;124mTemperature Converter\u001b[39m\u001b[38;5;124m\"\u001b[39m)\n\u001b[1;32m     24\u001b[0m \u001b[38;5;66;03m# Serve it locally\u001b[39;00m\n\u001b[0;32m---> 25\u001b[0m \u001b[43mbuilder\u001b[49m\u001b[38;5;241;43m.\u001b[39;49m\u001b[43mserve\u001b[49m\u001b[43m(\u001b[49m\u001b[43mport\u001b[49m\u001b[38;5;241;43m=\u001b[39;49m\u001b[38;5;241;43m8080\u001b[39;49m\u001b[43m)\u001b[49m\n",
      "File \u001b[0;32m~/Dropbox/py/proj/i/rh/rh/core.py:298\u001b[0m, in \u001b[0;36mMeshBuilder.serve\u001b[0;34m(self, directory, port)\u001b[0m\n\u001b[1;32m    295\u001b[0m \u001b[38;5;28;01mif\u001b[39;00m directory \u001b[38;5;129;01mis\u001b[39;00m \u001b[38;5;28;01mNone\u001b[39;00m:\n\u001b[1;32m    296\u001b[0m     directory \u001b[38;5;241m=\u001b[39m \u001b[38;5;28mself\u001b[39m\u001b[38;5;241m.\u001b[39m_get_output_dir()\n\u001b[0;32m--> 298\u001b[0m \u001b[43mserve_directory\u001b[49m\u001b[43m(\u001b[49m\u001b[43mdirectory\u001b[49m\u001b[43m,\u001b[49m\u001b[43m \u001b[49m\u001b[43mport\u001b[49m\u001b[38;5;241;43m=\u001b[39;49m\u001b[43mport\u001b[49m\u001b[43m)\u001b[49m\n",
      "File \u001b[0;32m~/Dropbox/py/proj/i/rh/rh/util.py:46\u001b[0m, in \u001b[0;36mserve_directory\u001b[0;34m(directory, port, host)\u001b[0m\n\u001b[1;32m     44\u001b[0m original_dir \u001b[38;5;241m=\u001b[39m os\u001b[38;5;241m.\u001b[39mgetcwd()\n\u001b[1;32m     45\u001b[0m \u001b[38;5;28;01mtry\u001b[39;00m:\n\u001b[0;32m---> 46\u001b[0m     \u001b[43mos\u001b[49m\u001b[38;5;241;43m.\u001b[39;49m\u001b[43mchdir\u001b[49m\u001b[43m(\u001b[49m\u001b[43mdirectory\u001b[49m\u001b[43m)\u001b[49m\n\u001b[1;32m     48\u001b[0m     \u001b[38;5;28;01mclass\u001b[39;00m\u001b[38;5;250m \u001b[39m\u001b[38;5;21;01mQuietHTTPRequestHandler\u001b[39;00m(http\u001b[38;5;241m.\u001b[39mserver\u001b[38;5;241m.\u001b[39mSimpleHTTPRequestHandler):\n\u001b[1;32m     49\u001b[0m \u001b[38;5;250m        \u001b[39m\u001b[38;5;124;03m\"\"\"HTTP request handler that suppresses log messages.\"\"\"\u001b[39;00m\n",
      "\u001b[0;31mFileNotFoundError\u001b[0m: [Errno 2] No such file or directory: '/Users/thorwhalen/.config/rh/apps/default_app'"
     ]
    }
   ],
   "source": [
    "from rh import MeshBuilder\n",
    "\n",
    "# Define relationships between variables\n",
    "mesh_spec = {\n",
    "    \"temp_fahrenheit\": [\"temp_celsius\"],\n",
    "    \"temp_kelvin\": [\"temp_celsius\"],\n",
    "}\n",
    "\n",
    "# Define how to compute each relationship\n",
    "functions_spec = {\n",
    "    \"temp_fahrenheit\": \"return temp_celsius * 9/5 + 32;\",\n",
    "    \"temp_kelvin\": \"return temp_celsius + 273.15;\",\n",
    "}\n",
    "\n",
    "# Set initial values\n",
    "initial_values = {\n",
    "    \"temp_celsius\": 20.0\n",
    "}\n",
    "\n",
    "# Create and build the app\n",
    "builder = MeshBuilder(mesh_spec, functions_spec, initial_values)\n",
    "app_path = builder.build_app(title=\"Temperature Converter\")\n",
    "\n",
    "# Serve it locally\n",
    "builder.serve(port=8080)"
   ]
  },
  {
   "cell_type": "code",
   "execution_count": null,
   "id": "dcd6ab15",
   "metadata": {},
   "outputs": [],
   "source": []
  },
  {
   "cell_type": "code",
   "execution_count": null,
   "id": "ef2c8baf",
   "metadata": {},
   "outputs": [],
   "source": []
  },
  {
   "cell_type": "code",
   "execution_count": null,
   "id": "d81f9312",
   "metadata": {},
   "outputs": [],
   "source": []
  }
 ],
 "metadata": {
  "kernelspec": {
   "display_name": "p10",
   "language": "python",
   "name": "python3"
  },
  "language_info": {
   "codemirror_mode": {
    "name": "ipython",
    "version": 3
   },
   "file_extension": ".py",
   "mimetype": "text/x-python",
   "name": "python",
   "nbconvert_exporter": "python",
   "pygments_lexer": "ipython3",
   "version": "3.10.13"
  }
 },
 "nbformat": 4,
 "nbformat_minor": 5
}
